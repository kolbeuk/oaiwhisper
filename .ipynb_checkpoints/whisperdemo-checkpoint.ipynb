{
 "cells": [
  {
   "cell_type": "code",
   "execution_count": null,
   "id": "ff6564be-ba5d-4366-b40d-7c58d1539c31",
   "metadata": {},
   "outputs": [],
   "source": [
    "import whisper"
   ]
  },
  {
   "cell_type": "code",
   "execution_count": null,
   "id": "c709739a-faed-4fa5-a724-a49389852468",
   "metadata": {},
   "outputs": [],
   "source": [
    "model = whisper.load_model(\"tiny\")"
   ]
  },
  {
   "cell_type": "code",
   "execution_count": null,
   "id": "fbf7d06f",
   "metadata": {},
   "outputs": [],
   "source": [
    "result = model.transcribe(\"Minimizing-the-Cost-of-Chaoss.m4a\")"
   ]
  },
  {
   "cell_type": "code",
   "execution_count": null,
   "id": "4ab132be-9ed8-4d1a-b764-37aef73f57bd",
   "metadata": {},
   "outputs": [],
   "source": [
    "print(result[\"text\"])"
   ]
  },
  {
   "cell_type": "code",
   "execution_count": null,
   "id": "b91b0590-5b71-4b2b-bdcf-a0a55afea666",
   "metadata": {},
   "outputs": [],
   "source": []
  }
 ],
 "metadata": {
  "kernelspec": {
   "display_name": "Python 3 (ipykernel)",
   "language": "python",
   "name": "python3"
  },
  "language_info": {
   "codemirror_mode": {
    "name": "ipython",
    "version": 3
   },
   "file_extension": ".py",
   "mimetype": "text/x-python",
   "name": "python",
   "nbconvert_exporter": "python",
   "pygments_lexer": "ipython3",
   "version": "3.12.0"
  }
 },
 "nbformat": 4,
 "nbformat_minor": 5
}
