{
 "cells": [
  {
   "cell_type": "code",
   "execution_count": 1,
   "id": "ff6564be-ba5d-4366-b40d-7c58d1539c31",
   "metadata": {},
   "outputs": [],
   "source": [
    "import whisper"
   ]
  },
  {
   "cell_type": "code",
   "execution_count": 2,
   "id": "b3345749",
   "metadata": {},
   "outputs": [
    {
     "name": "stdout",
     "output_type": "stream",
     "text": [
      "['AUTOFLUSH', 'BUFFERING', 'CACHE_HEADERS', 'CAN_FADVISE', 'CAN_FALLOCATE', 'CAN_LOCK', 'CorruptWhisperFile', 'FADVISE_RANDOM', 'InvalidAggregationMethod', 'InvalidConfiguration', 'InvalidTimeInterval', 'InvalidXFilesFactor', 'LOCK', 'TimestampNotCovered', 'UnitMultipliers', 'WhisperException', '__archive_fetch', '__archive_update_many', '__builtins__', '__cached__', '__doc__', '__file__', '__headerCache', '__loader__', '__name__', '__package__', '__propagate', '__readHeader', '__setAggregation', '__spec__', '__writeHeaderMetadata', 'aggregate', 'aggregationMethodToType', 'aggregationMethods', 'aggregationTypeToMethod', 'archiveInfoFormat', 'archiveInfoSize', 'c_off64_t', 'c_off_t', 'create', 'ctypes', 'debug', 'diff', 'disableDebug', 'enableDebug', 'endBlock', 'fallocate', 'fcntl', 'fetch', 'file_diff', 'file_fetch', 'file_merge', 'file_update', 'file_update_many', 'floatFormat', 'floatSize', 'getUnitString', 'ifilter', 'info', 'itertools', 'izip', 'longFormat', 'longSize', 'merge', 'metadataFormat', 'metadataSize', 'operator', 'os', 'parseRetentionDef', 'platform', 'pointFormat', 'pointSize', 're', 'setAggregationMethod', 'setXFilesFactor', 'startBlock', 'struct', 'sys', 'time', 'update', 'update_many', 'validateArchiveList', 'valueFormat', 'valueSize', 'xrange']\n"
     ]
    }
   ],
   "source": [
    "print(dir(whisper))"
   ]
  },
  {
   "cell_type": "code",
   "execution_count": null,
   "id": "c709739a-faed-4fa5-a724-a49389852468",
   "metadata": {},
   "outputs": [],
   "source": [
    "model = whisper.load_model(\"tiny\")"
   ]
  },
  {
   "cell_type": "code",
   "execution_count": null,
   "id": "fbf7d06f",
   "metadata": {},
   "outputs": [],
   "source": [
    "result = model.transcribe(\"Minimizing-the-Cost-of-Chaoss.m4a\")"
   ]
  },
  {
   "cell_type": "code",
   "execution_count": null,
   "id": "4ab132be-9ed8-4d1a-b764-37aef73f57bd",
   "metadata": {},
   "outputs": [],
   "source": [
    "print(result[\"text\"])"
   ]
  },
  {
   "cell_type": "code",
   "execution_count": null,
   "id": "b91b0590-5b71-4b2b-bdcf-a0a55afea666",
   "metadata": {},
   "outputs": [],
   "source": []
  }
 ],
 "metadata": {
  "kernelspec": {
   "display_name": "Python 3 (ipykernel)",
   "language": "python",
   "name": "python3"
  },
  "language_info": {
   "codemirror_mode": {
    "name": "ipython",
    "version": 3
   },
   "file_extension": ".py",
   "mimetype": "text/x-python",
   "name": "python",
   "nbconvert_exporter": "python",
   "pygments_lexer": "ipython3",
   "version": "3.11.6"
  }
 },
 "nbformat": 4,
 "nbformat_minor": 5
}
